{
 "cells": [
  {
   "cell_type": "code",
   "execution_count": 1,
   "metadata": {},
   "outputs": [],
   "source": [
    "import nltk\n",
    "\n",
    "\n",
    "class Preprocessing:\n",
    "\n",
    "    def __init__(self):\n",
    "        self.sent_tokenizer = nltk.data.load('tokenizers/punkt/portuguese.pickle')\n",
    "        self.stemmer = nltk.stem.RSLPStemmer()\n",
    "\n",
    "    def steammize(self, tokens):\n",
    "        return [ self.stemmer.stem(x) for x in tokens ]\n",
    "    \n",
    "    def tokenize_sents(self, txt):\n",
    "        sents = self.sent_tokenizer.tokenize(txt)\n",
    "        return sents\n",
    "    \n",
    "    def tokenize_words(self, sent):\n",
    "        tokens = nltk.tokenize.word_tokenize(sent)\n",
    "        return(tokens)\n",
    "    \n",
    "    def tokenize_text(self, txt):\n",
    "        tokens = []\n",
    "        \n",
    "        sents = self.tokenize_sents(txt)\n",
    "        for s in sents:\n",
    "            tokens.append(self.tokenize_words(s))\n",
    "        \n",
    "        return tokens"
   ]
  },
  {
   "cell_type": "code",
   "execution_count": 2,
   "metadata": {},
   "outputs": [],
   "source": [
    "pre = Preprocessing()\n",
    "txt = 'Outros aspectos do ego que podem ser melhorados com magia amarela são o carisma e a autoconfiança. O simples ato de fingir uma autoconfiança ou carisma que não se tem de verdade, por tempo suficiente, é suficiente para conseguir de fato aumentar estes aspectos. Surpreendentemente, não é preciso muito tempo para conseguir mudar essas características. E isso não depende de cerimonial – apenas de atitude. Falando em cerimonial, em operações de magia amarela, é recomendável que se deixe um pouco de lado a solenidade.'"
   ]
  },
  {
   "cell_type": "code",
   "execution_count": 5,
   "metadata": {},
   "outputs": [
    {
     "name": "stdout",
     "output_type": "stream",
     "text": [
      "['outr aspect do ego que pod ser melhor com mag amarel são o carism e a '\n",
      " 'autoconfianç .',\n",
      " 'o simpl ato de fing uma autoconfianç ou carism que não se tem de verdad , '\n",
      " 'por temp sufici , é sufici par consegu de fat aument est aspect .',\n",
      " 'surpreend , não é precis muit temp par consegu mud ess caracterís .',\n",
      " 'e iss não depend de cerimon – apen de atitud .',\n",
      " 'fal em cerimon , em oper de mag amarel , é recomend que se deix um pouc de '\n",
      " 'lad a solen .']\n"
     ]
    }
   ],
   "source": [
    "from pprint import pprint\n",
    "\n",
    "tokens = pre.tokenize_text(txt)\n",
    "\n",
    "steam = [ pre.steammize(x) for x in tokens ]\n",
    "\n",
    "s = [ ' '.join(x) for x in steam ]\n",
    "pprint(s)"
   ]
  },
  {
   "cell_type": "code",
   "execution_count": null,
   "metadata": {},
   "outputs": [],
   "source": []
  }
 ],
 "metadata": {
  "kernelspec": {
   "display_name": "Python 3",
   "language": "python",
   "name": "python3"
  },
  "language_info": {
   "codemirror_mode": {
    "name": "ipython",
    "version": 3
   },
   "file_extension": ".py",
   "mimetype": "text/x-python",
   "name": "python",
   "nbconvert_exporter": "python",
   "pygments_lexer": "ipython3",
   "version": "3.7.3"
  }
 },
 "nbformat": 4,
 "nbformat_minor": 2
}
