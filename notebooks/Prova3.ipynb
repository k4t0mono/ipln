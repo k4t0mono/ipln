{
 "cells": [
  {
   "cell_type": "code",
   "execution_count": 37,
   "metadata": {},
   "outputs": [],
   "source": [
    "import os\n",
    "import xmltodict\n",
    "import pandas as pd\n",
    "from pprint import pprint\n",
    "from utils.tui import Progress\n",
    "from utils.lexical import LexicalProcessing\n",
    "\n",
    "BASE_DIR = '../data/corpora/trainset'\n",
    "LP = LexicalProcessing()"
   ]
  },
  {
   "cell_type": "code",
   "execution_count": 2,
   "metadata": {},
   "outputs": [],
   "source": [
    "def get_count():\n",
    "    count = 0\n",
    "    for product in os.listdir(BASE_DIR):\n",
    "        corpus = {}\n",
    "\n",
    "        product_path = '{}/{}'.format(BASE_DIR, product)\n",
    "        for rank in os.listdir(product_path):  \n",
    "            rank_path = '{}/{}'.format(product_path, rank)\n",
    "            fls = os.listdir(rank_path)\n",
    "            fls = [ x for x in fls if '.xml' in x ]\n",
    "            count += len(fls)\n",
    "    return count"
   ]
  },
  {
   "cell_type": "code",
   "execution_count": 3,
   "metadata": {},
   "outputs": [],
   "source": [
    "def get_corpora():\n",
    "    corpora_kabum = {}\n",
    "    errors = []\n",
    "    count = get_count()\n",
    "    P = Progress(count, '')\n",
    "    for product in os.listdir(BASE_DIR):\n",
    "        corpus = {}\n",
    "\n",
    "        product_path = '{}/{}'.format(BASE_DIR, product)\n",
    "        for rank in os.listdir(product_path):  \n",
    "            rank_path = '{}/{}'.format(product_path, rank)\n",
    "            fls = os.listdir(rank_path)\n",
    "            fls = [ x for x in fls if '.xml' in x ]\n",
    "\n",
    "            reviews = []\n",
    "            for fl_name in fls:\n",
    "                fl_path = '{}/{}'.format(rank_path, fl_name)\n",
    "                with open(fl_path) as fl_:\n",
    "                    try:\n",
    "                        r = xmltodict.parse(fl_.read())['review']\n",
    "                        if not r['opinion']:\n",
    "                            raise Exception(fl_path)\n",
    "                        reviews.append(r)\n",
    "                    except:\n",
    "                        errors.append(fl_path)\n",
    "                P.progressStep()\n",
    "            corpus[rank] = reviews\n",
    "        corpora_kabum[product] = corpus\n",
    "    return (corpora_kabum, errors)"
   ]
  },
  {
   "cell_type": "code",
   "execution_count": 48,
   "metadata": {},
   "outputs": [],
   "source": [
    "num_sents = []\n",
    "\n",
    "def create_dataframe(corpora_kabum):\n",
    "    dataset = dict(category=[], score=[], review=[])\n",
    "    for cat in corpora_kabum.keys():\n",
    "        for stars in corpora_kabum[cat].keys():\n",
    "            for review in corpora_kabum[cat][stars]:\n",
    "                dataset['category'].append(review['category']['@value'])\n",
    "                dataset['score'].append(int(float(review['stars']['@value'])))\n",
    "                num_sents.append(len(LP.tokenize_sentences(review['opinion'])))\n",
    "                dataset['review'].append(review['opinion'])\n",
    "    return pd.DataFrame(data=dataset)"
   ]
  },
  {
   "cell_type": "code",
   "execution_count": 49,
   "metadata": {
    "scrolled": false
   },
   "outputs": [],
   "source": [
    "#c_ = get_corpora()\n",
    "df = create_dataframe(c_[0])"
   ]
  },
  {
   "cell_type": "code",
   "execution_count": 54,
   "metadata": {},
   "outputs": [
    {
     "name": "stdout",
     "output_type": "stream",
     "text": [
      "Quantidade de reviews:  67010\n"
     ]
    }
   ],
   "source": [
    "print('Quantidade de reviews: ', len(df))"
   ]
  },
  {
   "cell_type": "code",
   "execution_count": 55,
   "metadata": {},
   "outputs": [
    {
     "name": "stdout",
     "output_type": "stream",
     "text": [
      "Quantidade de sentencas:  205145\n"
     ]
    }
   ],
   "source": [
    "import numpy\n",
    "\n",
    "print('Quantidade de sentencas: ', numpy.sum(num_sents))"
   ]
  },
  {
   "cell_type": "code",
   "execution_count": 56,
   "metadata": {},
   "outputs": [
    {
     "name": "stdout",
     "output_type": "stream",
     "text": [
      "Reviews com score 1:  2395\n",
      "Reviews com score 2:  2892\n",
      "Reviews com score 3:  8934\n",
      "Reviews com score 4:  25769\n",
      "Reviews com score 5:  26349\n"
     ]
    }
   ],
   "source": [
    "print(\"Reviews com score 1: \", len(df[df.score == 1]))\n",
    "print(\"Reviews com score 2: \", len(df[df.score == 2]))\n",
    "print(\"Reviews com score 3: \", len(df[df.score == 3]))\n",
    "print(\"Reviews com score 4: \", len(df[df.score == 4]))\n",
    "print(\"Reviews com score 5: \", len(df[df.score == 5]))"
   ]
  }
 ],
 "metadata": {
  "kernelspec": {
   "display_name": "Python 3",
   "language": "python",
   "name": "python3"
  },
  "language_info": {
   "codemirror_mode": {
    "name": "ipython",
    "version": 3
   },
   "file_extension": ".py",
   "mimetype": "text/x-python",
   "name": "python",
   "nbconvert_exporter": "python",
   "pygments_lexer": "ipython3",
   "version": "3.7.3"
  }
 },
 "nbformat": 4,
 "nbformat_minor": 2
}
