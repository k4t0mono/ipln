{
 "cells": [
  {
   "cell_type": "markdown",
   "metadata": {},
   "source": [
    "# Statis"
   ]
  },
  {
   "cell_type": "markdown",
   "metadata": {},
   "source": [
    "## Carregar os corpora"
   ]
  },
  {
   "cell_type": "code",
   "execution_count": 10,
   "metadata": {},
   "outputs": [],
   "source": [
    "import os\n",
    "import copy\n",
    "import numpy\n",
    "from utils import lexical, tui\n",
    "from nltk.corpus import stopwords\n",
    "from string import punctuation\n",
    "\n",
    "stop_words = set(stopwords.words('portuguese') + list(punctuation) + [ '”', '“', '–'])"
   ]
  },
  {
   "cell_type": "code",
   "execution_count": 2,
   "metadata": {},
   "outputs": [],
   "source": [
    "BASE_DIR = '../data/corpora'\n",
    "\n",
    "corpus_ocultismo = []\n",
    "for dir in os.listdir('{}/ocultismo'.format(BASE_DIR)):\n",
    "    with open('{}/ocultismo/{}'.format(BASE_DIR, dir), 'r') as fl:\n",
    "        corpus_ocultismo.append(fl.readlines())"
   ]
  },
  {
   "cell_type": "code",
   "execution_count": 3,
   "metadata": {},
   "outputs": [
    {
     "name": "stdout",
     "output_type": "stream",
     "text": [
      "size ocultismo: 506\n"
     ]
    }
   ],
   "source": [
    "print('size ocultismo:', len(corpus_ocultismo))"
   ]
  },
  {
   "cell_type": "markdown",
   "metadata": {},
   "source": [
    "## Frequência de palavras"
   ]
  },
  {
   "cell_type": "code",
   "execution_count": 7,
   "metadata": {},
   "outputs": [
    {
     "name": "stdout",
     "output_type": "stream",
     "text": [
      "[============================================================] 100.0% ...working\r"
     ]
    }
   ],
   "source": [
    "PP = lexical.Preprocessing()\n",
    "P = tui.Progress(len(corpus_ocultismo), 'working')\n",
    "\n",
    "freq_words = {}\n",
    "sent_sizes = []\n",
    "for doc in corpus_ocultismo:\n",
    "    for p in doc:\n",
    "        for sent in PP.tokenize_sentences(p):\n",
    "            sent_size = 0\n",
    "            \n",
    "            s = PP.remove_punctuation(sent)\n",
    "            for word in PP.tokenize_words(s):\n",
    "                sent_size += 1\n",
    "                \n",
    "                w = PP.lowercase(word)\n",
    "                try:\n",
    "                    freq_words[w] += 1\n",
    "                except KeyError:\n",
    "                    freq_words[w] = 1\n",
    "            sent_sizes.append(sent_size)\n",
    "    P.progressStep()"
   ]
  },
  {
   "cell_type": "code",
   "execution_count": 5,
   "metadata": {},
   "outputs": [
    {
     "data": {
      "text/plain": [
       "[('de', 20965),\n",
       " ('que', 18129),\n",
       " ('a', 16477),\n",
       " ('e', 15949),\n",
       " ('o', 15335),\n",
       " ('é', 9810),\n",
       " ('não', 7471),\n",
       " ('um', 7013),\n",
       " ('do', 6893),\n",
       " ('em', 6337),\n",
       " ('da', 6261),\n",
       " ('uma', 6037),\n",
       " ('para', 5964),\n",
       " ('se', 5391),\n",
       " ('com', 5161),\n",
       " ('os', 4391),\n",
       " ('como', 4273),\n",
       " ('por', 3805),\n",
       " ('mais', 3426),\n",
       " ('no', 3380),\n",
       " ('mas', 3298),\n",
       " ('as', 3216),\n",
       " ('”', 3213),\n",
       " ('na', 3207),\n",
       " ('“', 3154),\n",
       " ('ou', 3076),\n",
       " ('você', 2934),\n",
       " ('ser', 2208),\n",
       " ('dos', 2206),\n",
       " ('eu', 2107),\n",
       " ('são', 2077),\n",
       " ('sua', 2038),\n",
       " ('isso', 2005),\n",
       " ('magia', 1894),\n",
       " ('ao', 1865),\n",
       " ('–', 1749),\n",
       " ('seu', 1728),\n",
       " ('muito', 1625),\n",
       " ('ele', 1572),\n",
       " ('sobre', 1520),\n",
       " ('mesmo', 1509),\n",
       " ('pode', 1480),\n",
       " ('das', 1403),\n",
       " ('também', 1375),\n",
       " ('foi', 1254),\n",
       " ('nos', 1239),\n",
       " ('tem', 1216),\n",
       " ('está', 1202),\n",
       " ('já', 1175),\n",
       " ('forma', 1100)]"
      ]
     },
     "execution_count": 5,
     "metadata": {},
     "output_type": "execute_result"
    }
   ],
   "source": [
    "fql = [ x for x in list(freq_words.items()) if x not in stop_words ]\n",
    "fql.sort(key=lambda x: x[1], reverse=True)\n",
    "fql[:50]"
   ]
  },
  {
   "cell_type": "code",
   "execution_count": 17,
   "metadata": {},
   "outputs": [
    {
     "data": {
      "text/plain": [
       "8.272980036701329"
      ]
     },
     "execution_count": 17,
     "metadata": {},
     "output_type": "execute_result"
    }
   ],
   "source": [
    "numpy.mean(sent_sizes)\n",
    "word_sizes = [ len(x[0]) for x in fql ]\n",
    "numpy.mean(word_sizes)"
   ]
  },
  {
   "cell_type": "code",
   "execution_count": null,
   "metadata": {},
   "outputs": [],
   "source": []
  }
 ],
 "metadata": {
  "kernelspec": {
   "display_name": "Python 3",
   "language": "python",
   "name": "python3"
  },
  "language_info": {
   "codemirror_mode": {
    "name": "ipython",
    "version": 3
   },
   "file_extension": ".py",
   "mimetype": "text/x-python",
   "name": "python",
   "nbconvert_exporter": "python",
   "pygments_lexer": "ipython3",
   "version": "3.7.3"
  }
 },
 "nbformat": 4,
 "nbformat_minor": 2
}
