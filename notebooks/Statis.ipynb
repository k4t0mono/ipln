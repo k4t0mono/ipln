{
 "cells": [
  {
   "cell_type": "markdown",
   "metadata": {},
   "source": [
    "# Statis"
   ]
  },
  {
   "cell_type": "markdown",
   "metadata": {},
   "source": [
    "## Carregar os corpora"
   ]
  },
  {
   "cell_type": "code",
   "execution_count": 2,
   "metadata": {},
   "outputs": [],
   "source": [
    "import os\n",
    "import copy\n",
    "import numpy\n",
    "from utils import lexical, tui\n",
    "from nltk.corpus import stopwords\n",
    "from string import punctuation\n",
    "from prettytable import PrettyTable\n",
    "\n",
    "stop_words = set(stopwords.words('portuguese') + list(punctuation) + [ '”', '“', '–'])"
   ]
  },
  {
   "cell_type": "markdown",
   "metadata": {},
   "source": [
    "## Carregar corpora"
   ]
  },
  {
   "cell_type": "code",
   "execution_count": 4,
   "metadata": {},
   "outputs": [],
   "source": [
    "BASE_DIR = '../data/corpora'\n",
    "\n",
    "corpus_ocultismo = []\n",
    "for dir in os.listdir('{}/ocultismo'.format(BASE_DIR)):\n",
    "    with open('{}/ocultismo/{}'.format(BASE_DIR, dir), 'r') as fl:\n",
    "        corpus_ocultismo.append(fl.readlines())\n",
    "        \n",
    "corpus_games = []\n",
    "for dir in os.listdir('{}/games'.format(BASE_DIR)):\n",
    "    with open('{}/games/{}'.format(BASE_DIR, dir), 'r') as fl:\n",
    "        corpus_games.append(fl.readlines())"
   ]
  },
  {
   "cell_type": "code",
   "execution_count": 5,
   "metadata": {},
   "outputs": [
    {
     "name": "stdout",
     "output_type": "stream",
     "text": [
      "size ocultismo: 506\n",
      "size games: 10\n"
     ]
    }
   ],
   "source": [
    "print('size ocultismo:', len(corpus_ocultismo))\n",
    "print('size games:', len(corpus_games))"
   ]
  },
  {
   "cell_type": "markdown",
   "metadata": {},
   "source": [
    "## Frequência de palavras"
   ]
  },
  {
   "cell_type": "code",
   "execution_count": 6,
   "metadata": {},
   "outputs": [
    {
     "name": "stdout",
     "output_type": "stream",
     "text": [
      "[============================================================] 100.0% ...ocultismo\r"
     ]
    }
   ],
   "source": [
    "PP = lexical.Preprocessing()\n",
    "P = tui.Progress(len(corpus_ocultismo), 'ocultismo')\n",
    "\n",
    "freq_words = {}\n",
    "sent_sizes = []\n",
    "for doc in corpus_ocultismo:\n",
    "    for p in doc:\n",
    "        for sent in PP.tokenize_sentences(p):\n",
    "            sent_size = 0\n",
    "            \n",
    "            s = PP.remove_punctuation(sent)\n",
    "            for word in PP.tokenize_words(s):\n",
    "                sent_size += 1\n",
    "                \n",
    "                w = PP.lowercase(word)\n",
    "                try:\n",
    "                    freq_words[w] += 1\n",
    "                except KeyError:\n",
    "                    freq_words[w] = 1\n",
    "            sent_sizes.append(sent_size)\n",
    "    P.progressStep()"
   ]
  },
  {
   "cell_type": "markdown",
   "metadata": {},
   "source": [
    "## Corpus Ocultismo"
   ]
  },
  {
   "cell_type": "markdown",
   "metadata": {},
   "source": [
    "### 20 palavras mais usadas"
   ]
  },
  {
   "cell_type": "code",
   "execution_count": 25,
   "metadata": {},
   "outputs": [
    {
     "name": "stdout",
     "output_type": "stream",
     "text": [
      "+---------+---------+------------+\n",
      "| Posição | Palavra | Quantidade |\n",
      "+---------+---------+------------+\n",
      "|    1    |    de   |   20965    |\n",
      "|    2    |   que   |   18129    |\n",
      "|    3    |    a    |   16477    |\n",
      "|    4    |    e    |   15949    |\n",
      "|    5    |    o    |   15335    |\n",
      "|    6    |    é    |    9810    |\n",
      "|    7    |   não   |    7471    |\n",
      "|    8    |    um   |    7013    |\n",
      "|    9    |    do   |    6893    |\n",
      "|    10   |    em   |    6337    |\n",
      "|    11   |    da   |    6261    |\n",
      "|    12   |   uma   |    6037    |\n",
      "|    13   |   para  |    5964    |\n",
      "|    14   |    se   |    5391    |\n",
      "|    15   |   com   |    5161    |\n",
      "|    16   |    os   |    4391    |\n",
      "|    17   |   como  |    4273    |\n",
      "|    18   |   por   |    3805    |\n",
      "|    19   |   mais  |    3426    |\n",
      "|    20   |    no   |    3380    |\n",
      "+---------+---------+------------+\n"
     ]
    }
   ],
   "source": [
    "fql = [ x for x in list(freq_words.items()) if x not in stop_words ]\n",
    "fql.sort(key=lambda x: x[1], reverse=True)\n",
    "\n",
    "pt = PrettyTable()\n",
    "pt.field_names = [ 'Posição', 'Palavra', 'Quantidade' ]\n",
    "for i in range(20):\n",
    "    pt.add_row((i+1, fql[i][0], fql[i][1]))\n",
    "print(pt)"
   ]
  },
  {
   "cell_type": "markdown",
   "metadata": {},
   "source": [
    "### 20 palavras menos usadas"
   ]
  },
  {
   "cell_type": "code",
   "execution_count": 26,
   "metadata": {},
   "outputs": [
    {
     "name": "stdout",
     "output_type": "stream",
     "text": [
      "+---------+--------------+------------+\n",
      "| Posição |   Palavra    | Quantidade |\n",
      "+---------+--------------+------------+\n",
      "|  35966  |   retenha    |     1      |\n",
      "|  35965  |   excluame   |     1      |\n",
      "|  35964  |    rabiah    |     1      |\n",
      "|  35963  |   ascética   |     1      |\n",
      "|  35962  |  sofressem   |     1      |\n",
      "|  35961  |   mcdonald   |     1      |\n",
      "|  35960  |   megafone   |     1      |\n",
      "|  35959  |   sussurra   |     1      |\n",
      "|  35958  | narcisística |     1      |\n",
      "|  35957  |  privandoas  |     1      |\n",
      "|  35956  |    aliás…    |     1      |\n",
      "|  35955  |  ensinavam   |     1      |\n",
      "|  35954  |  confortos   |     1      |\n",
      "|  35953  |  agraciado   |     1      |\n",
      "|  35952  |   utópica    |     1      |\n",
      "|  35951  |  paradoxais  |     1      |\n",
      "|  35950  |  sucedidos   |     1      |\n",
      "|  35949  |  tristezas   |     1      |\n",
      "|  35948  |  reprimindo  |     1      |\n",
      "|  35947  |   moderar    |     1      |\n",
      "+---------+--------------+------------+\n"
     ]
    }
   ],
   "source": [
    "pt = PrettyTable()\n",
    "pt.field_names = [ 'Posição', 'Palavra', 'Quantidade' ]\n",
    "for i in range(len(fql)-1, len(fql)-21, -1):\n",
    "    pt.add_row((i+1, fql[i][0], fql[i][1]))\n",
    "print(pt)"
   ]
  },
  {
   "cell_type": "code",
   "execution_count": 23,
   "metadata": {},
   "outputs": [
    {
     "name": "stdout",
     "output_type": "stream",
     "text": [
      "Tamanho médio das sentenças: 16.71\n",
      "Tamanho médio das palavras: 8.27\n"
     ]
    }
   ],
   "source": [
    "print('Tamanho médio das sentenças: {:.02f}'.format(numpy.average(sent_sizes)))\n",
    "\n",
    "word_sizes = [ len(x[0]) for x in fql ]\n",
    "numpy.mean(word_sizes)\n",
    "print('Tamanho médio das palavras: {:.02f}'.format(numpy.average(word_sizes)))"
   ]
  },
  {
   "cell_type": "code",
   "execution_count": 6,
   "metadata": {},
   "outputs": [
    {
     "data": {
      "text/plain": [
       "8.272980036701329"
      ]
     },
     "execution_count": 6,
     "metadata": {},
     "output_type": "execute_result"
    }
   ],
   "source": [
    "\n"
   ]
  },
  {
   "cell_type": "code",
   "execution_count": null,
   "metadata": {},
   "outputs": [],
   "source": []
  }
 ],
 "metadata": {
  "kernelspec": {
   "display_name": "Python 3",
   "language": "python",
   "name": "python3"
  },
  "language_info": {
   "codemirror_mode": {
    "name": "ipython",
    "version": 3
   },
   "file_extension": ".py",
   "mimetype": "text/x-python",
   "name": "python",
   "nbconvert_exporter": "python",
   "pygments_lexer": "ipython3",
   "version": "3.7.3"
  }
 },
 "nbformat": 4,
 "nbformat_minor": 2
}
