{
 "cells": [
  {
   "cell_type": "code",
   "execution_count": 7,
   "metadata": {},
   "outputs": [],
   "source": [
    "import os\n",
    "import xmltodict\n",
    "import random\n",
    "import pickle\n",
    "import gzip\n",
    "import pandas as pd\n",
    "import numpy\n",
    "from pprint import pprint\n",
    "from utils.tui import Progress\n",
    "from utils.lexical import LexicalProcessing\n",
    "from sklearn.feature_extraction.text import TfidfVectorizer\n",
    "\n",
    "BASE_DIR = '../data/corpora/trainset'\n",
    "TEST_PERCENT = 0.2\n",
    "LP = LexicalProcessing()"
   ]
  },
  {
   "cell_type": "code",
   "execution_count": 2,
   "metadata": {},
   "outputs": [],
   "source": [
    "def get_count():\n",
    "    count = 0\n",
    "    for product in os.listdir(BASE_DIR):\n",
    "        corpus = {}\n",
    "\n",
    "        product_path = '{}/{}'.format(BASE_DIR, product)\n",
    "        for rank in os.listdir(product_path):  \n",
    "            rank_path = '{}/{}'.format(product_path, rank)\n",
    "            fls = os.listdir(rank_path)\n",
    "            fls = [ x for x in fls if '.xml' in x ]\n",
    "            count += len(fls)\n",
    "    return count"
   ]
  },
  {
   "cell_type": "code",
   "execution_count": 3,
   "metadata": {},
   "outputs": [],
   "source": [
    "def get_corpora():\n",
    "    corpora_kabum = {}\n",
    "    errors = []\n",
    "    count = get_count()\n",
    "    P = Progress(count, '')\n",
    "    for product in os.listdir(BASE_DIR):\n",
    "        corpus = {}\n",
    "\n",
    "        product_path = '{}/{}'.format(BASE_DIR, product)\n",
    "        for rank in os.listdir(product_path):  \n",
    "            rank_path = '{}/{}'.format(product_path, rank)\n",
    "            fls = os.listdir(rank_path)\n",
    "            fls = [ x for x in fls if '.xml' in x ]\n",
    "\n",
    "            reviews = []\n",
    "            for fl_name in fls:\n",
    "                fl_path = '{}/{}'.format(rank_path, fl_name)\n",
    "                with open(fl_path) as fl_:\n",
    "                    try:\n",
    "                        r = xmltodict.parse(fl_.read())['review']\n",
    "                        if not r['opinion']:\n",
    "                            raise Exception(fl_path)\n",
    "                        reviews.append(r)\n",
    "                    except:\n",
    "                        errors.append(fl_path)\n",
    "                P.progressStep()\n",
    "            corpus[rank] = reviews\n",
    "        corpora_kabum[product] = corpus\n",
    "    return (corpora_kabum, errors)"
   ]
  },
  {
   "cell_type": "code",
   "execution_count": 4,
   "metadata": {},
   "outputs": [],
   "source": [
    "def create_dataframe(corpora_kabum):\n",
    "    dataset = dict(test=[], category=[], score=[], review=[])\n",
    "    for cat in corpora_kabum.keys():\n",
    "        for stars in corpora_kabum[cat].keys():\n",
    "            for review in corpora_kabum[cat][stars]:\n",
    "                dataset['test'].append(random.choices([0,1], weights=[0.8, 0.2],k=1)[0])\n",
    "                dataset['category'].append(review['category']['@value'])\n",
    "                dataset['score'].append(float(review['stars']['@value']))\n",
    "                dataset['review'].append(review['opinion'])\n",
    "    return pd.DataFrame(data=dataset)"
   ]
  },
  {
   "cell_type": "code",
   "execution_count": 5,
   "metadata": {},
   "outputs": [],
   "source": [
    "DF_PATH = 'df_kabum.pkl.gz'\n",
    "\n",
    "def save(data, path):\n",
    "    with gzip.open(path, 'wb') as f:\n",
    "        f.write(pickle.dumps(data))\n",
    "\n",
    "def load(path):\n",
    "    with gzip.open(path, 'rb') as f:\n",
    "        return pickle.loads(f.read())\n",
    "    "
   ]
  },
  {
   "cell_type": "code",
   "execution_count": 13,
   "metadata": {},
   "outputs": [
    {
     "name": "stdout",
     "output_type": "stream",
     "text": [
      "[------------------------------------------------------------] 0.0% ...lemma\r"
     ]
    }
   ],
   "source": [
    "progess_tokenize = Progress(len(df), 'lemma')\n",
    "def tokenize_review(text):\n",
    "    text = LP.lowercase(text)\n",
    "    text = LP.remove_punctuation(text)\n",
    "    tokens = LP.tokenize_words(text)\n",
    "    progess_tokenize.progressStep()\n",
    "    return tokens\n",
    "\n",
    "def normalize_review(tokens):\n",
    "    return ' '.join(tokens)\n",
    "\n",
    "progess_lemma = Progress(len(df), 'lemma')\n",
    "def lemmatize_words(text):\n",
    "    lemmas = LP.lemmatize_sentence(text)\n",
    "    progess_lemma.progressStep()\n",
    "    return lemmas"
   ]
  },
  {
   "cell_type": "code",
   "execution_count": 9,
   "metadata": {},
   "outputs": [
    {
     "data": {
      "text/html": [
       "<div>\n",
       "<style scoped>\n",
       "    .dataframe tbody tr th:only-of-type {\n",
       "        vertical-align: middle;\n",
       "    }\n",
       "\n",
       "    .dataframe tbody tr th {\n",
       "        vertical-align: top;\n",
       "    }\n",
       "\n",
       "    .dataframe thead th {\n",
       "        text-align: right;\n",
       "    }\n",
       "</style>\n",
       "<table border=\"1\" class=\"dataframe\">\n",
       "  <thead>\n",
       "    <tr style=\"text-align: right;\">\n",
       "      <th></th>\n",
       "      <th>test</th>\n",
       "      <th>category</th>\n",
       "      <th>score</th>\n",
       "      <th>review</th>\n",
       "      <th>tokens</th>\n",
       "      <th>normalized</th>\n",
       "    </tr>\n",
       "  </thead>\n",
       "  <tbody>\n",
       "    <tr>\n",
       "      <th>0</th>\n",
       "      <td>0</td>\n",
       "      <td>Joystick / Controle</td>\n",
       "      <td>1.0</td>\n",
       "      <td>Comprei e já vou devolver pois nas especificaç...</td>\n",
       "      <td>[comprei, e, já, vou, devolver, pois, nas, esp...</td>\n",
       "      <td>comprei e já vou devolver pois nas especificaç...</td>\n",
       "    </tr>\n",
       "    <tr>\n",
       "      <th>1</th>\n",
       "      <td>1</td>\n",
       "      <td>Joystick / Controle</td>\n",
       "      <td>1.0</td>\n",
       "      <td>Esta guitarra NÃO é compatível com Nintendo Wi...</td>\n",
       "      <td>[esta, guitarra, não, é, compatível, com, nint...</td>\n",
       "      <td>esta guitarra não é compatível com nintendo wi...</td>\n",
       "    </tr>\n",
       "    <tr>\n",
       "      <th>2</th>\n",
       "      <td>1</td>\n",
       "      <td>Joystick / Controle</td>\n",
       "      <td>1.0</td>\n",
       "      <td>Não funciona corretamente no Wii. No Rockband ...</td>\n",
       "      <td>[não, funciona, corretamente, no, wii, no, roc...</td>\n",
       "      <td>não funciona corretamente no wii no rockband o...</td>\n",
       "    </tr>\n",
       "    <tr>\n",
       "      <th>3</th>\n",
       "      <td>0</td>\n",
       "      <td>Joystick / Controle</td>\n",
       "      <td>1.0</td>\n",
       "      <td>Não sei em outros consoles, mas no wii esse pr...</td>\n",
       "      <td>[não, sei, em, outros, consoles, mas, no, wii,...</td>\n",
       "      <td>não sei em outros consoles mas no wii esse pro...</td>\n",
       "    </tr>\n",
       "    <tr>\n",
       "      <th>4</th>\n",
       "      <td>1</td>\n",
       "      <td>Joystick / Controle</td>\n",
       "      <td>1.0</td>\n",
       "      <td>Produto nada funcional e ainda com preço exage...</td>\n",
       "      <td>[produto, nada, funcional, e, ainda, com, preç...</td>\n",
       "      <td>produto nada funcional e ainda com preço exage...</td>\n",
       "    </tr>\n",
       "  </tbody>\n",
       "</table>\n",
       "</div>"
      ],
      "text/plain": [
       "   test             category  score  \\\n",
       "0     0  Joystick / Controle    1.0   \n",
       "1     1  Joystick / Controle    1.0   \n",
       "2     1  Joystick / Controle    1.0   \n",
       "3     0  Joystick / Controle    1.0   \n",
       "4     1  Joystick / Controle    1.0   \n",
       "\n",
       "                                              review  \\\n",
       "0  Comprei e já vou devolver pois nas especificaç...   \n",
       "1  Esta guitarra NÃO é compatível com Nintendo Wi...   \n",
       "2  Não funciona corretamente no Wii. No Rockband ...   \n",
       "3  Não sei em outros consoles, mas no wii esse pr...   \n",
       "4  Produto nada funcional e ainda com preço exage...   \n",
       "\n",
       "                                              tokens  \\\n",
       "0  [comprei, e, já, vou, devolver, pois, nas, esp...   \n",
       "1  [esta, guitarra, não, é, compatível, com, nint...   \n",
       "2  [não, funciona, corretamente, no, wii, no, roc...   \n",
       "3  [não, sei, em, outros, consoles, mas, no, wii,...   \n",
       "4  [produto, nada, funcional, e, ainda, com, preç...   \n",
       "\n",
       "                                          normalized  \n",
       "0  comprei e já vou devolver pois nas especificaç...  \n",
       "1  esta guitarra não é compatível com nintendo wi...  \n",
       "2  não funciona corretamente no wii no rockband o...  \n",
       "3  não sei em outros consoles mas no wii esse pro...  \n",
       "4  produto nada funcional e ainda com preço exage...  "
      ]
     },
     "execution_count": 9,
     "metadata": {},
     "output_type": "execute_result"
    }
   ],
   "source": [
    "LOAD_PICKLE = True\n",
    "if LOAD_PICKLE:\n",
    "    df = load(DF_PATH)\n",
    "    \n",
    "else:\n",
    "    c_ = get_corpora()\n",
    "    df = create_dataframe(c_[0])\n",
    "    df['tokens'] = df.review.apply(tokenize_review)\n",
    "    df['normalized'] = df.tokens.apply(normalize_review)\n",
    "    df['lemmas'] = df.normalized.apply(lemmatize_words)\n",
    "    save(df, DF_PATH)\n",
    "\n",
    "df.head()"
   ]
  },
  {
   "cell_type": "code",
   "execution_count": 14,
   "metadata": {},
   "outputs": [],
   "source": [
    "save(df, DF_PATH)"
   ]
  },
  {
   "cell_type": "code",
   "execution_count": 15,
   "metadata": {},
   "outputs": [
    {
     "data": {
      "text/html": [
       "<div>\n",
       "<style scoped>\n",
       "    .dataframe tbody tr th:only-of-type {\n",
       "        vertical-align: middle;\n",
       "    }\n",
       "\n",
       "    .dataframe tbody tr th {\n",
       "        vertical-align: top;\n",
       "    }\n",
       "\n",
       "    .dataframe thead th {\n",
       "        text-align: right;\n",
       "    }\n",
       "</style>\n",
       "<table border=\"1\" class=\"dataframe\">\n",
       "  <thead>\n",
       "    <tr style=\"text-align: right;\">\n",
       "      <th></th>\n",
       "      <th>test</th>\n",
       "      <th>category</th>\n",
       "      <th>score</th>\n",
       "      <th>review</th>\n",
       "      <th>tokens</th>\n",
       "      <th>normalized</th>\n",
       "      <th>lemmas</th>\n",
       "    </tr>\n",
       "  </thead>\n",
       "  <tbody>\n",
       "    <tr>\n",
       "      <th>0</th>\n",
       "      <td>0</td>\n",
       "      <td>Joystick / Controle</td>\n",
       "      <td>1.0</td>\n",
       "      <td>Comprei e já vou devolver pois nas especificaç...</td>\n",
       "      <td>[comprei, e, já, vou, devolver, pois, nas, esp...</td>\n",
       "      <td>comprei e já vou devolver pois nas especificaç...</td>\n",
       "      <td>[comprar, e, já, ir, devolver, pois, o, especi...</td>\n",
       "    </tr>\n",
       "    <tr>\n",
       "      <th>1</th>\n",
       "      <td>1</td>\n",
       "      <td>Joystick / Controle</td>\n",
       "      <td>1.0</td>\n",
       "      <td>Esta guitarra NÃO é compatível com Nintendo Wi...</td>\n",
       "      <td>[esta, guitarra, não, é, compatível, com, nint...</td>\n",
       "      <td>esta guitarra não é compatível com nintendo wi...</td>\n",
       "      <td>[este, guitarra, não, ser, compatível, com, ni...</td>\n",
       "    </tr>\n",
       "    <tr>\n",
       "      <th>2</th>\n",
       "      <td>1</td>\n",
       "      <td>Joystick / Controle</td>\n",
       "      <td>1.0</td>\n",
       "      <td>Não funciona corretamente no Wii. No Rockband ...</td>\n",
       "      <td>[não, funciona, corretamente, no, wii, no, roc...</td>\n",
       "      <td>não funciona corretamente no wii no rockband o...</td>\n",
       "      <td>[não, funcionar, corretamente, o, wii, o, rock...</td>\n",
       "    </tr>\n",
       "    <tr>\n",
       "      <th>3</th>\n",
       "      <td>0</td>\n",
       "      <td>Joystick / Controle</td>\n",
       "      <td>1.0</td>\n",
       "      <td>Não sei em outros consoles, mas no wii esse pr...</td>\n",
       "      <td>[não, sei, em, outros, consoles, mas, no, wii,...</td>\n",
       "      <td>não sei em outros consoles mas no wii esse pro...</td>\n",
       "      <td>[não, saber, em, outro, consolar, mas, o, wii,...</td>\n",
       "    </tr>\n",
       "    <tr>\n",
       "      <th>4</th>\n",
       "      <td>1</td>\n",
       "      <td>Joystick / Controle</td>\n",
       "      <td>1.0</td>\n",
       "      <td>Produto nada funcional e ainda com preço exage...</td>\n",
       "      <td>[produto, nada, funcional, e, ainda, com, preç...</td>\n",
       "      <td>produto nada funcional e ainda com preço exage...</td>\n",
       "      <td>[produto, nado, funcional, e, ainda, com, preç...</td>\n",
       "    </tr>\n",
       "  </tbody>\n",
       "</table>\n",
       "</div>"
      ],
      "text/plain": [
       "   test             category  score  \\\n",
       "0     0  Joystick / Controle    1.0   \n",
       "1     1  Joystick / Controle    1.0   \n",
       "2     1  Joystick / Controle    1.0   \n",
       "3     0  Joystick / Controle    1.0   \n",
       "4     1  Joystick / Controle    1.0   \n",
       "\n",
       "                                              review  \\\n",
       "0  Comprei e já vou devolver pois nas especificaç...   \n",
       "1  Esta guitarra NÃO é compatível com Nintendo Wi...   \n",
       "2  Não funciona corretamente no Wii. No Rockband ...   \n",
       "3  Não sei em outros consoles, mas no wii esse pr...   \n",
       "4  Produto nada funcional e ainda com preço exage...   \n",
       "\n",
       "                                              tokens  \\\n",
       "0  [comprei, e, já, vou, devolver, pois, nas, esp...   \n",
       "1  [esta, guitarra, não, é, compatível, com, nint...   \n",
       "2  [não, funciona, corretamente, no, wii, no, roc...   \n",
       "3  [não, sei, em, outros, consoles, mas, no, wii,...   \n",
       "4  [produto, nada, funcional, e, ainda, com, preç...   \n",
       "\n",
       "                                          normalized  \\\n",
       "0  comprei e já vou devolver pois nas especificaç...   \n",
       "1  esta guitarra não é compatível com nintendo wi...   \n",
       "2  não funciona corretamente no wii no rockband o...   \n",
       "3  não sei em outros consoles mas no wii esse pro...   \n",
       "4  produto nada funcional e ainda com preço exage...   \n",
       "\n",
       "                                              lemmas  \n",
       "0  [comprar, e, já, ir, devolver, pois, o, especi...  \n",
       "1  [este, guitarra, não, ser, compatível, com, ni...  \n",
       "2  [não, funcionar, corretamente, o, wii, o, rock...  \n",
       "3  [não, saber, em, outro, consolar, mas, o, wii,...  \n",
       "4  [produto, nado, funcional, e, ainda, com, preç...  "
      ]
     },
     "execution_count": 15,
     "metadata": {},
     "output_type": "execute_result"
    }
   ],
   "source": [
    "df.head()"
   ]
  },
  {
   "cell_type": "code",
   "execution_count": 17,
   "metadata": {},
   "outputs": [],
   "source": [
    "from gensim.models import KeyedVectors\n",
    "\n",
    "model = KeyedVectors.load_word2vec_format('models/cbow_s50.txt')"
   ]
  },
  {
   "cell_type": "code",
   "execution_count": 19,
   "metadata": {},
   "outputs": [
    {
     "name": "stdout",
     "output_type": "stream",
     "text": [
      "[============================================================] 100.0% ...vecs\r"
     ]
    }
   ],
   "source": [
    "ERRR = []\n",
    "progess_vecs = Progress(len(df), 'vecs')\n",
    "def calc_vec(tokens):\n",
    "    vecs = []\n",
    "    for w in tokens:\n",
    "        try:\n",
    "            vecs.append(model[w])\n",
    "        except:\n",
    "            pass\n",
    "    progess_vecs.progressStep()\n",
    "    if not vecs:\n",
    "        ERRR.append(tokens)\n",
    "        return numpy.zeros((50, ))\n",
    "        \n",
    "    return numpy.average(vecs, axis=0)\n",
    "\n",
    "def aaaa(a):\n",
    "    return int(a)\n",
    "\n",
    "df['vec'] = df.lemmas.apply(calc_vec)\n",
    "df['score'] = df.score.apply(aaaa)"
   ]
  },
  {
   "cell_type": "code",
   "execution_count": 21,
   "metadata": {},
   "outputs": [],
   "source": [
    "train_x = df[df.test == 0].vec.values.tolist()\n",
    "train_y = df[df.test == 0].score.values.tolist()\n",
    "\n",
    "test_x = df[df.test == 1].vec.values.tolist()\n",
    "test_y = df[df.test == 1].score.values.tolist()"
   ]
  },
  {
   "cell_type": "code",
   "execution_count": 22,
   "metadata": {},
   "outputs": [
    {
     "name": "stdout",
     "output_type": "stream",
     "text": [
      "Test accuracy: 0.278\n",
      "Train accuracy: 0.277\n"
     ]
    }
   ],
   "source": [
    "from sklearn.naive_bayes import GaussianNB\n",
    "from sklearn.metrics import accuracy_score\n",
    "\n",
    "clf = GaussianNB()\n",
    "clf.fit(train_x, train_y)\n",
    "print('Test accuracy: {:0.3f}'.format(accuracy_score(test_y, clf.predict(test_x))))\n",
    "print('Train accuracy: {:0.3f}'.format(accuracy_score(train_y, clf.predict(train_x))))"
   ]
  },
  {
   "cell_type": "code",
   "execution_count": null,
   "metadata": {},
   "outputs": [
    {
     "name": "stderr",
     "output_type": "stream",
     "text": [
      "/home/k4t0mono/.local/share/virtualenvs/ipln-LePBjxLu/lib/python3.7/site-packages/sklearn/svm/base.py:193: FutureWarning: The default value of gamma will change from 'auto' to 'scale' in version 0.22 to account better for unscaled features. Set gamma explicitly to 'auto' or 'scale' to avoid this warning.\n",
      "  \"avoid this warning.\", FutureWarning)\n"
     ]
    }
   ],
   "source": [
    "from sklearn.svm import SVC\n",
    "\n",
    "svc = SVC()\n",
    "svc.fit(train_x, train_y)\n",
    "print('Test accuracy: {:0.3f}'.format(accuracy_score(test_y, svc.predict(test_x))))\n",
    "print('Train accuracy: {:0.3f}'.format(accuracy_score(train_y, svc.predict(train_x))))"
   ]
  },
  {
   "cell_type": "code",
   "execution_count": null,
   "metadata": {},
   "outputs": [],
   "source": [
    "from sklearn.neural_network import MLPClassifier\n",
    "\n",
    "mplc = MLPClassifier(\n",
    "    hidden_layer_sizes=(100, 100),verbose=True, batch_size=200, max_iter=1000\n",
    ")\n",
    "mplc.fit(train_x, train_y)\n",
    "print('Test accuracy: {:0.3f}'.format(accuracy_score(test_y, mplc.predict(test_x))))\n",
    "print('Train accuracy: {:0.3f}'.format(accuracy_score(train_y, mplc.predict(train_x))))"
   ]
  }
 ],
 "metadata": {
  "kernelspec": {
   "display_name": "Python 3",
   "language": "python",
   "name": "python3"
  },
  "language_info": {
   "codemirror_mode": {
    "name": "ipython",
    "version": 3
   },
   "file_extension": ".py",
   "mimetype": "text/x-python",
   "name": "python",
   "nbconvert_exporter": "python",
   "pygments_lexer": "ipython3",
   "version": "3.7.3"
  }
 },
 "nbformat": 4,
 "nbformat_minor": 2
}
