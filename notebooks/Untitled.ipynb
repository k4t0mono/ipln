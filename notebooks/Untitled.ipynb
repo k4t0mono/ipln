{
 "cells": [
  {
   "cell_type": "code",
   "execution_count": 42,
   "metadata": {},
   "outputs": [],
   "source": [
    "import os\n",
    "import xmltodict\n",
    "import pandas as pd\n",
    "import random\n",
    "from pprint import pprint\n",
    "from utils.tui import Progress\n",
    "\n",
    "BASE_DIR = '../data/corpora/trainset'\n",
    "TEST_PERCENT = 0.2"
   ]
  },
  {
   "cell_type": "code",
   "execution_count": 7,
   "metadata": {},
   "outputs": [],
   "source": [
    "count = 0\n",
    "for product in os.listdir(BASE_DIR):\n",
    "    corpus = {}\n",
    "    \n",
    "    product_path = '{}/{}'.format(BASE_DIR, product)\n",
    "    for rank in os.listdir(product_path):  \n",
    "        rank_path = '{}/{}'.format(product_path, rank)\n",
    "        fls = os.listdir(rank_path)\n",
    "        fls = [ x for x in fls if '.xml' in x ]\n",
    "        count += len(fls)"
   ]
  },
  {
   "cell_type": "code",
   "execution_count": 9,
   "metadata": {},
   "outputs": [
    {
     "name": "stdout",
     "output_type": "stream",
     "text": [
      "[============================================================] 100.0% ...\r"
     ]
    }
   ],
   "source": [
    "corpora_kabum = {}\n",
    "errors = []\n",
    "P = Progress(count, '')\n",
    "for product in os.listdir(BASE_DIR):\n",
    "    corpus = {}\n",
    "    \n",
    "    product_path = '{}/{}'.format(BASE_DIR, product)\n",
    "    for rank in os.listdir(product_path):  \n",
    "        rank_path = '{}/{}'.format(product_path, rank)\n",
    "        fls = os.listdir(rank_path)\n",
    "        fls = [ x for x in fls if '.xml' in x ]\n",
    "        \n",
    "        reviews = []\n",
    "        for fl_name in fls:\n",
    "            fl_path = '{}/{}'.format(rank_path, fl_name)\n",
    "            with open(fl_path) as fl_:\n",
    "                try:\n",
    "                    reviews.append(xmltodict.parse(fl_.read())['review'])\n",
    "                except:\n",
    "                    errors.append(fl_path)\n",
    "            P.progressStep()\n",
    "        corpus[rank] = reviews\n",
    "    corpora_kabum[product] = corpus"
   ]
  },
  {
   "cell_type": "code",
   "execution_count": 51,
   "metadata": {},
   "outputs": [],
   "source": [
    "dataset = dict(test=[], category=[], score=[], review=[])\n",
    "\n",
    "for cat in corpora_kabum.keys():\n",
    "    for stars in corpora_kabum[cat].keys():\n",
    "        for review in corpora_kabum[cat][stars]:\n",
    "            dataset['test'].append(random.choices([0,1], weights=[0.8, 0.2],k=1)[0])\n",
    "            dataset['category'].append(review['category']['@value'])\n",
    "            dataset['score'].append(float(review['stars']['@value']))\n",
    "            dataset['review'].append(review['opinion'])\n",
    "dataframe = pd.DataFrame(data=dataset)"
   ]
  },
  {
   "cell_type": "code",
   "execution_count": 52,
   "metadata": {},
   "outputs": [],
   "source": [
    "import pickle\n",
    "import gzip\n",
    "\n",
    "b_ = pickle.dumps(dataframe)\n",
    "with gzip.open('dataframe_kabum.pkl.gz', 'wb') as f:\n",
    "    f.write(b_)"
   ]
  },
  {
   "cell_type": "code",
   "execution_count": 56,
   "metadata": {},
   "outputs": [
    {
     "ename": "ModuleNotFoundError",
     "evalue": "No module named 'sklearn'",
     "output_type": "error",
     "traceback": [
      "\u001b[0;31m---------------------------------------------------------------------------\u001b[0m",
      "\u001b[0;31mModuleNotFoundError\u001b[0m                       Traceback (most recent call last)",
      "\u001b[0;32m<ipython-input-56-e5fb1c47bdfd>\u001b[0m in \u001b[0;36m<module>\u001b[0;34m\u001b[0m\n\u001b[1;32m      2\u001b[0m \u001b[0mtrain_y\u001b[0m \u001b[0;34m=\u001b[0m \u001b[0mdataframe\u001b[0m\u001b[0;34m.\u001b[0m\u001b[0mloc\u001b[0m\u001b[0;34m[\u001b[0m\u001b[0mdataframe\u001b[0m\u001b[0;34m.\u001b[0m\u001b[0mtest\u001b[0m \u001b[0;34m==\u001b[0m \u001b[0;36m1\u001b[0m\u001b[0;34m]\u001b[0m\u001b[0;34m.\u001b[0m\u001b[0mscore\u001b[0m\u001b[0;34m.\u001b[0m\u001b[0mvalues\u001b[0m\u001b[0;34m.\u001b[0m\u001b[0mtolist\u001b[0m\u001b[0;34m(\u001b[0m\u001b[0;34m)\u001b[0m\u001b[0;34m\u001b[0m\u001b[0;34m\u001b[0m\u001b[0m\n\u001b[1;32m      3\u001b[0m \u001b[0;34m\u001b[0m\u001b[0m\n\u001b[0;32m----> 4\u001b[0;31m \u001b[0;32mfrom\u001b[0m \u001b[0msklearn\u001b[0m\u001b[0;34m.\u001b[0m\u001b[0mfeature_extraction\u001b[0m\u001b[0;34m.\u001b[0m\u001b[0mtext\u001b[0m \u001b[0;32mimport\u001b[0m \u001b[0mTfidfVectorizer\u001b[0m\u001b[0;34m\u001b[0m\u001b[0;34m\u001b[0m\u001b[0m\n\u001b[0m\u001b[1;32m      5\u001b[0m \u001b[0mtransformer\u001b[0m \u001b[0;34m=\u001b[0m \u001b[0mTfidfVectorizer\u001b[0m\u001b[0;34m(\u001b[0m\u001b[0;34m)\u001b[0m\u001b[0;34m\u001b[0m\u001b[0;34m\u001b[0m\u001b[0m\n\u001b[1;32m      6\u001b[0m \u001b[0mtransformer\u001b[0m\u001b[0;34m.\u001b[0m\u001b[0mfit\u001b[0m\u001b[0;34m(\u001b[0m\u001b[0mtrain_reviews\u001b[0m\u001b[0;34m)\u001b[0m\u001b[0;34m\u001b[0m\u001b[0;34m\u001b[0m\u001b[0m\n",
      "\u001b[0;31mModuleNotFoundError\u001b[0m: No module named 'sklearn'"
     ]
    }
   ],
   "source": [
    "train_x = dataframe.loc[dataframe.test == 1].review.values.tolist()\n",
    "train_y = dataframe.loc[dataframe.test == 1].score.values.tolist()\n",
    "\n",
    "from sklearn.feature_extraction.text import TfidfVectorizer\n",
    "transformer = TfidfVectorizer()\n",
    "transformer.fit(train_reviews)\n",
    "X = transformer.transform(train_reviews)"
   ]
  },
  {
   "cell_type": "code",
   "execution_count": null,
   "metadata": {},
   "outputs": [],
   "source": []
  }
 ],
 "metadata": {
  "kernelspec": {
   "display_name": "Python 3",
   "language": "python",
   "name": "python3"
  },
  "language_info": {
   "codemirror_mode": {
    "name": "ipython",
    "version": 3
   },
   "file_extension": ".py",
   "mimetype": "text/x-python",
   "name": "python",
   "nbconvert_exporter": "python",
   "pygments_lexer": "ipython3",
   "version": "3.7.3"
  }
 },
 "nbformat": 4,
 "nbformat_minor": 2
}
