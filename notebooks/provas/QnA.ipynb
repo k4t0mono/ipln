{
 "cells": [
  {
   "cell_type": "code",
   "execution_count": 1,
   "metadata": {},
   "outputs": [],
   "source": [
    "import pickle\n",
    "import random\n",
    "from utils import lexical, tui\n",
    "from prettytable import PrettyTable\n",
    "\n",
    "LPP = lexical.Preprocessing()"
   ]
  },
  {
   "cell_type": "markdown",
   "metadata": {},
   "source": [
    "## Carregar os dados"
   ]
  },
  {
   "cell_type": "code",
   "execution_count": 2,
   "metadata": {},
   "outputs": [],
   "source": [
    "# anwsers = pickle.load(open('anwsers.pkl', 'rb'))\n",
    "anwsers = dict(\n",
    "    ter=[('lista', 'limites'), ('casa', 'pscina'), ('eu', 'jogos'), ('eu', 'limites')],\n",
    "    amar=[('eu', 'chocolates'), ('eu', 'gatos')],\n",
    "    pintar=[('eu', 'quadros'), ('Michelangelo', 'quadros')],\n",
    "    gostar=[('eu', 'gatos'), ('eu', 'jogar')]\n",
    ")"
   ]
  },
  {
   "cell_type": "markdown",
   "metadata": {},
   "source": [
    "## Função de perguntas e respotas"
   ]
  },
  {
   "cell_type": "code",
   "execution_count": 3,
   "metadata": {},
   "outputs": [],
   "source": [
    "def qna(question, awnsers_dict):\n",
    "    \"\"\"\n",
    "    Responde a pergunta do primeiro argumento de acordo com o dicionário de resposas\n",
    "    do segundo argumento\n",
    "    \"\"\"\n",
    "    \n",
    "    svo = LPP.get_svo(question)[0]\n",
    "    verb_lemma = LPP.lemmatize(LPP.lemmatize(svo[1]))\n",
    "\n",
    "    if verb_lemma not in awnsers_dict:\n",
    "        return None\n",
    "    \n",
    "    l = [ x for x in awnsers_dict[verb_lemma] if x[1] == svo[2] ]\n",
    "    c = random.choice(l)\n",
    "    awnser = '{} {} {}'.format(c[0], verb_lemma, c[1])\n",
    "    return awnser"
   ]
  },
  {
   "cell_type": "code",
   "execution_count": 6,
   "metadata": {},
   "outputs": [
    {
     "name": "stdout",
     "output_type": "stream",
     "text": [
      "eu gostar jogar\n"
     ]
    }
   ],
   "source": [
    "awnser = qna('Quem gosta de jogar?', anwsers)\n",
    "print(awnser)"
   ]
  }
 ],
 "metadata": {
  "kernelspec": {
   "display_name": "Python 3",
   "language": "python",
   "name": "python3"
  },
  "language_info": {
   "codemirror_mode": {
    "name": "ipython",
    "version": 3
   },
   "file_extension": ".py",
   "mimetype": "text/x-python",
   "name": "python",
   "nbconvert_exporter": "python",
   "pygments_lexer": "ipython3",
   "version": "3.7.3"
  }
 },
 "nbformat": 4,
 "nbformat_minor": 2
}
