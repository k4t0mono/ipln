{
 "cells": [
  {
   "cell_type": "code",
   "execution_count": 1,
   "metadata": {},
   "outputs": [],
   "source": [
    "import nltk\n",
    "import spacy"
   ]
  },
  {
   "cell_type": "code",
   "execution_count": 2,
   "metadata": {},
   "outputs": [],
   "source": [
    "#nltk.download_shell()"
   ]
  },
  {
   "cell_type": "code",
   "execution_count": 3,
   "metadata": {},
   "outputs": [],
   "source": [
    "import os\n",
    "\n",
    "corpora_path = '../data/corpora/'\n",
    "corpora_dirs = os.listdir(corpora_path)\n",
    "corpora_dirs = [d for d in corpora_dirs if not d[0] == '.']\n",
    "\n",
    "ignore_corpus = [ 'CSTNews 6.0' ]\n",
    "corpora_dirs = [d for d in corpora_dirs if d not in ignore_corpus ]\n",
    "\n",
    "corpora = {}\n",
    "for corpus in corpora_dirs:\n",
    "    files = [os.path.join(corpora_path + corpus, f) \\\n",
    "             for f in os.listdir(corpora_path + corpus) \\\n",
    "             if os.path.isfile(os.path.join(corpora_path + corpus, f))]\n",
    "    corpora[corpus] = {'raw': [], 'tokenized': [], 'words': []}\n",
    "    for file in files:\n",
    "        with open(file, 'r', encoding='iso-8859-1') as txt_file:\n",
    "            lines = txt_file.readlines()\n",
    "            corpora[corpus]['raw'].append(lines)"
   ]
  },
  {
   "cell_type": "code",
   "execution_count": 4,
   "metadata": {},
   "outputs": [],
   "source": [
    "senet_tokenizer = nltk.data.load('tokenizers/punkt/portuguese.pickle')"
   ]
  },
  {
   "cell_type": "code",
   "execution_count": 10,
   "metadata": {},
   "outputs": [
    {
     "name": "stdout",
     "output_type": "stream",
     "text": [
      "....................................................................................................................................................................................................................................................................................................................................................................................................................................................................................\n",
      "Geologia done\n",
      "\n",
      "..........................................................................................................\n",
      "Mineracao_dados done\n",
      "\n",
      "..................................................................................................................................................................................\n",
      "Modelagem_estocastica done\n",
      "\n",
      "..................................................................................................................................................................................................................................................................................................................................................................................................................................................................................................................................................................................\n",
      "Pediatria done\n",
      "\n",
      "............................................................................................................................\n",
      "Processamento_paralelo done\n",
      "\n",
      "......................................................................................................................................................................................................................................................................................................................................................................................................................................................................................................................................................................................................................................................................................................................................................................\n",
      "Teses_dissertacoes done\n",
      "\n"
     ]
    }
   ],
   "source": [
    "for (corpus, infos) in corpora.items():\n",
    "    sentences = []\n",
    "    corpora[corpus]['words'] = []\n",
    "    words = []\n",
    "    \n",
    "    for txt in infos['raw']:\n",
    "        for ln in txt:\n",
    "            s = senet_tokenizer.tokenize(ln.strip())\n",
    "            tokens = [ nltk.tokenize.word_tokenize(s_) for s_ in s ]\n",
    "            sentences.append(tokens)\n",
    "            \n",
    "            for doc in tokens:\n",
    "                words.extend([ w for w in doc ])\n",
    "        print('.', end='')\n",
    "    print('\\n{} done\\n'.format(corpus))\n",
    "    \n",
    "    corpora[corpus]['processed'] = sentences\n",
    "    corpora[corpus]['words'].extend(words)"
   ]
  },
  {
   "cell_type": "code",
   "execution_count": 11,
   "metadata": {},
   "outputs": [
    {
     "name": "stdout",
     "output_type": "stream",
     "text": [
      "812816\n"
     ]
    }
   ],
   "source": [
    "print(len(corpora['Pediatria']['words']))"
   ]
  }
 ],
 "metadata": {
  "kernelspec": {
   "display_name": "Python 3",
   "language": "python",
   "name": "python3"
  },
  "language_info": {
   "codemirror_mode": {
    "name": "ipython",
    "version": 3
   },
   "file_extension": ".py",
   "mimetype": "text/x-python",
   "name": "python",
   "nbconvert_exporter": "python",
   "pygments_lexer": "ipython3",
   "version": "3.5.2"
  }
 },
 "nbformat": 4,
 "nbformat_minor": 2
}
