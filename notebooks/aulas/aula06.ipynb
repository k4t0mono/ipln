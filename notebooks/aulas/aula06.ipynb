{
 "cells": [
  {
   "cell_type": "code",
   "execution_count": 1,
   "metadata": {},
   "outputs": [
    {
     "name": "stderr",
     "output_type": "stream",
     "text": [
      "/home/aluno/.virtualenvs/ipln-fGYAiFpy/lib/python3.5/site-packages/smart_open/ssh.py:34: UserWarning: paramiko missing, opening SSH/SCP/SFTP paths will be disabled.  `pip install paramiko` to suppress\n",
      "  warnings.warn('paramiko missing, opening SSH/SCP/SFTP paths will be disabled.  `pip install paramiko` to suppress')\n"
     ]
    }
   ],
   "source": [
    "import os\n",
    "from gensim.models import Word2Vec, Doc2Vec\n",
    "from gensim.models.doc2vec import TaggedDocument\n",
    "from utils import lexical"
   ]
  },
  {
   "cell_type": "code",
   "execution_count": 2,
   "metadata": {},
   "outputs": [],
   "source": [
    "normalizer = lexical.Preprocessing()"
   ]
  },
  {
   "cell_type": "code",
   "execution_count": 16,
   "metadata": {},
   "outputs": [],
   "source": [
    "corpora_path = '../data/corpora'\n",
    "\n",
    "files_penumbra = os.listdir('{}/blog/penumbra_livros'.format(corpora_path))\n",
    "files_penumbra = [ '../data/corpora/blog/penumbra_livros/{}'.format(x) for x in files_penumbra ]\n",
    "\n",
    "files_momentum = os.listdir('{}/blog/momentum_saga'.format(corpora_path))\n",
    "files_momentum = [ '../data/corpora/blog/momentum_saga/{}'.format(x) for x in files_momentum ]"
   ]
  },
  {
   "cell_type": "code",
   "execution_count": 17,
   "metadata": {},
   "outputs": [
    {
     "name": "stdout",
     "output_type": "stream",
     "text": [
      "Number of sentences: 4285\n"
     ]
    }
   ],
   "source": [
    "penumbra_sentences = []\n",
    "\n",
    "for d in files_penumbra:\n",
    "    with open(d) as fl:\n",
    "        for ln in fl.readlines():\n",
    "            ln = normalizer.lowercase(ln)\n",
    "            sentences = normalizer.tokenize_sentences(ln)\n",
    "            sentences = [ normalizer.tokenize_words(x) for x in sentences ]\n",
    "            penumbra_sentences.extend(sentences)\n",
    "\n",
    "print(\"Number of sentences: {}\".format(len(penumbra_sentences)))"
   ]
  },
  {
   "cell_type": "code",
   "execution_count": 18,
   "metadata": {},
   "outputs": [],
   "source": [
    "w2v_penumbra = Word2Vec(penumbra_sentences, size=300, window=5, min_count=1, workers=4)"
   ]
  },
  {
   "cell_type": "code",
   "execution_count": 22,
   "metadata": {},
   "outputs": [
    {
     "data": {
      "text/plain": [
       "[('liber', 0.9998836517333984),\n",
       " ('carroll', 0.9998741149902344),\n",
       " ('j.', 0.9998587369918823),\n",
       " ('psiconauta', 0.9998565912246704),\n",
       " ('peter', 0.999855637550354),\n",
       " ('seu', 0.9998252391815186),\n",
       " ('do', 0.9998190402984619),\n",
       " ('no', 0.9998185634613037),\n",
       " (')', 0.9998176097869873),\n",
       " ('e', 0.9998157024383545)]"
      ]
     },
     "execution_count": 22,
     "metadata": {},
     "output_type": "execute_result"
    }
   ],
   "source": [
    "w2v_penumbra.wv.most_similar(\"null\")"
   ]
  },
  {
   "cell_type": "code",
   "execution_count": null,
   "metadata": {},
   "outputs": [],
   "source": []
  }
 ],
 "metadata": {
  "kernelspec": {
   "display_name": "Python 3",
   "language": "python",
   "name": "python3"
  },
  "language_info": {
   "codemirror_mode": {
    "name": "ipython",
    "version": 3
   },
   "file_extension": ".py",
   "mimetype": "text/x-python",
   "name": "python",
   "nbconvert_exporter": "python",
   "pygments_lexer": "ipython3",
   "version": "3.5.2"
  }
 },
 "nbformat": 4,
 "nbformat_minor": 2
}
