{
 "cells": [
  {
   "cell_type": "code",
   "execution_count": 23,
   "metadata": {},
   "outputs": [],
   "source": [
    "import os\n",
    "import random\n",
    "from utils import lexical, tui\n",
    "from prettytable import PrettyTable\n",
    "\n",
    "LPP = lexical.Preprocessing()"
   ]
  },
  {
   "cell_type": "markdown",
   "metadata": {},
   "source": [
    "## Carregar Corpora"
   ]
  },
  {
   "cell_type": "code",
   "execution_count": 24,
   "metadata": {},
   "outputs": [],
   "source": [
    "BASE_DIR = '../data/corpora'\n",
    "\n",
    "corpus_ocultismo = []\n",
    "for dir in os.listdir('{}/ocultismo'.format(BASE_DIR)):\n",
    "    with open('{}/ocultismo/{}'.format(BASE_DIR, dir), 'r') as fl:\n",
    "        corpus_ocultismo.append(fl.readlines())\n",
    "        \n",
    "corpus_tecnologia = []\n",
    "for dir in os.listdir('{}/tecnologia'.format(BASE_DIR)):\n",
    "    with open('{}/tecnologia/{}'.format(BASE_DIR, dir), 'r') as fl:\n",
    "        corpus_tecnologia.append(fl.readlines())"
   ]
  },
  {
   "cell_type": "markdown",
   "metadata": {},
   "source": [
    "## Processar SVO"
   ]
  },
  {
   "cell_type": "code",
   "execution_count": 25,
   "metadata": {},
   "outputs": [
    {
     "name": "stdout",
     "output_type": "stream",
     "text": [
      "[============================================================] 100.0% ...\n",
      "[============================================================] 100.0% ...\n"
     ]
    }
   ],
   "source": [
    "sents_ocultismo = []\n",
    "\n",
    "anwsers = {}\n",
    "for corpus in (corpus_ocultismo, corpus_tecnologia):\n",
    "    P = tui.Progress(len(corpus), '')\n",
    "    \n",
    "    for doc in corpus:\n",
    "        for p in doc:\n",
    "            p = LPP.lowercase(p.strip())\n",
    "            sents = LPP.tokenize_sentences(p)\n",
    "            \n",
    "            for s in sents:\n",
    "                results = LPP.get_svo(s)\n",
    "                results_ = []\n",
    "                \n",
    "                for r in results:\n",
    "                    r_ = [ LPP.lemmatize(x) if x else None for x in r ]\n",
    "                    \n",
    "                    if r_[1] not in anwsers:\n",
    "                        anwsers[r_[1]] = []\n",
    "                    anwsers[r_[1]].append((r[0], r[2]))\n",
    "        P.progressStep()\n",
    "    print()"
   ]
  },
  {
   "cell_type": "code",
   "execution_count": 26,
   "metadata": {},
   "outputs": [],
   "source": [
    "import pickle\n",
    "pickle.dump(anwsers, open('anwsers.pkl', 'wb'))\n",
    "# anwsers_ocultismo = pickle.load(open('anwsers.pkl', 'rb'))"
   ]
  },
  {
   "cell_type": "markdown",
   "metadata": {},
   "source": [
    "## Organizar a lista de SVO"
   ]
  },
  {
   "cell_type": "code",
   "execution_count": 36,
   "metadata": {},
   "outputs": [],
   "source": [
    "anwsers_list = [ (x[0], list(set(x[1]))) for x in list(anwsers_ocultismo.items()) ]\n",
    "verbs_len = [ (x[0], len(x[1])) for x in anwsers_list ]\n",
    "verbs_len.sort(key=(lambda x: x[1]), reverse=True)"
   ]
  },
  {
   "cell_type": "code",
   "execution_count": 37,
   "metadata": {},
   "outputs": [
    {
     "name": "stdout",
     "output_type": "stream",
     "text": [
      "Verbo com mais sujeito_objeto: ter\n"
     ]
    }
   ],
   "source": [
    "print('Verbo com mais sujeito_objeto:', verbs_len[0][0])"
   ]
  },
  {
   "cell_type": "code",
   "execution_count": 74,
   "metadata": {},
   "outputs": [],
   "source": [
    "verbs_without_objects = []\n",
    "for v, l in anwsers_list:\n",
    "    so = []\n",
    "    for t in l:\n",
    "        if not t[1]:\n",
    "            so.append(t)\n",
    "    if len(so):\n",
    "        verbs_without_objects.append((v, so))"
   ]
  },
  {
   "cell_type": "code",
   "execution_count": 111,
   "metadata": {},
   "outputs": [
    {
     "name": "stdout",
     "output_type": "stream",
     "text": [
      "verbos sem objeto\n",
      "[('sobreviver',\n",
      "  [('você', None), ('feito', None), ('hierarquia', None), ('cópia', None)]),\n",
      " ('convir', [(None, None)]),\n",
      " ('fazê-la', [('babaca', None)])]\n"
     ]
    }
   ],
   "source": [
    "import random\n",
    "from pprint import pprint\n",
    "l = random.sample(verbs_without_objects, 3)\n",
    "print('verbos sem objeto')\n",
    "pprint(l)"
   ]
  },
  {
   "cell_type": "code",
   "execution_count": null,
   "metadata": {},
   "outputs": [],
   "source": []
  },
  {
   "cell_type": "code",
   "execution_count": null,
   "metadata": {},
   "outputs": [],
   "source": []
  }
 ],
 "metadata": {
  "kernelspec": {
   "display_name": "Python 3",
   "language": "python",
   "name": "python3"
  },
  "language_info": {
   "codemirror_mode": {
    "name": "ipython",
    "version": 3
   },
   "file_extension": ".py",
   "mimetype": "text/x-python",
   "name": "python",
   "nbconvert_exporter": "python",
   "pygments_lexer": "ipython3",
   "version": "3.7.3"
  }
 },
 "nbformat": 4,
 "nbformat_minor": 2
}
