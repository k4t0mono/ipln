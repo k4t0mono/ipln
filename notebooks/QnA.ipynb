{
 "cells": [
  {
   "cell_type": "code",
   "execution_count": 1,
   "metadata": {},
   "outputs": [],
   "source": [
    "import os\n",
    "import random\n",
    "from utils import lexical, tui\n",
    "from prettytable import PrettyTable\n",
    "\n",
    "LPP = lexical.Preprocessing()"
   ]
  },
  {
   "cell_type": "markdown",
   "metadata": {},
   "source": [
    "## Carregar Corpora"
   ]
  },
  {
   "cell_type": "code",
   "execution_count": 2,
   "metadata": {},
   "outputs": [],
   "source": [
    "BASE_DIR = '../data/corpora'\n",
    "\n",
    "corpus_ocultismo = []\n",
    "for dir in os.listdir('{}/ocultismo'.format(BASE_DIR)):\n",
    "    with open('{}/ocultismo/{}'.format(BASE_DIR, dir), 'r') as fl:\n",
    "        corpus_ocultismo.append(fl.readlines())\n",
    "        \n",
    "corpus_tecnologia = []\n",
    "for dir in os.listdir('{}/tecnologia'.format(BASE_DIR)):\n",
    "    with open('{}/tecnologia/{}'.format(BASE_DIR, dir), 'r') as fl:\n",
    "        corpus_tecnologia.append(fl.readlines())"
   ]
  },
  {
   "cell_type": "code",
   "execution_count": 3,
   "metadata": {},
   "outputs": [
    {
     "name": "stdout",
     "output_type": "stream",
     "text": [
      "[============================================================] 100.0% ...\r"
     ]
    }
   ],
   "source": [
    "sents_ocultismo = []\n",
    "P = tui.Progress(len(corpus_ocultismo), '')\n",
    "\n",
    "anwsers_ocultismo = {}\n",
    "for doc in corpus_ocultismo:\n",
    "    for p in doc:\n",
    "        p = LPP.lowercase(p.strip())\n",
    "        sents = LPP.tokenize_sentences(p)\n",
    "\n",
    "        for s in sents:\n",
    "            results = LPP.get_svo(s)\n",
    "            results_ = []\n",
    "            for r in results:\n",
    "                r_ = [ LPP.lemmatize(x) if x else None for x in r ]\n",
    "\n",
    "                if r_[1] not in anwsers_ocultismo:\n",
    "                    anwsers_ocultismo[r_[1]] = []\n",
    "\n",
    "                anwsers_ocultismo[r_[1]].append((r[0], r[2]))\n",
    "                \n",
    "    P.progressStep()"
   ]
  },
  {
   "cell_type": "code",
   "execution_count": 9,
   "metadata": {},
   "outputs": [],
   "source": [
    "import pickle\n",
    "pickle.dump(anwsers_ocultismo, open('qna_ocultismo.pickle','wb'))"
   ]
  },
  {
   "cell_type": "code",
   "execution_count": null,
   "metadata": {},
   "outputs": [],
   "source": []
  }
 ],
 "metadata": {
  "kernelspec": {
   "display_name": "Python 3",
   "language": "python",
   "name": "python3"
  },
  "language_info": {
   "codemirror_mode": {
    "name": "ipython",
    "version": 3
   },
   "file_extension": ".py",
   "mimetype": "text/x-python",
   "name": "python",
   "nbconvert_exporter": "python",
   "pygments_lexer": "ipython3",
   "version": "3.7.3"
  }
 },
 "nbformat": 4,
 "nbformat_minor": 2
}
