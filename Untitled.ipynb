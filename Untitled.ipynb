{
 "cells": [
  {
   "cell_type": "code",
   "execution_count": 1,
   "metadata": {},
   "outputs": [],
   "source": [
    "import spacy\n",
    "from prettytable import PrettyTable"
   ]
  },
  {
   "cell_type": "code",
   "execution_count": 2,
   "metadata": {},
   "outputs": [],
   "source": [
    "nlp = spacy.load('pt_core_news_sm')"
   ]
  },
  {
   "cell_type": "code",
   "execution_count": 9,
   "metadata": {},
   "outputs": [],
   "source": [
    "def get_svo(txt):\n",
    "    doc = nlp(txt)\n",
    "    \n",
    "    x = PrettyTable()\n",
    "    x.field_names = [ 'txt', 'lemma', 'pos', 'dep', 'head' ]\n",
    "    \n",
    "    roots = []\n",
    "    for i in range(len(doc)):\n",
    "        t = doc[i]\n",
    "        if t.dep_ == 'ROOT':\n",
    "            h = None\n",
    "            roots.append(t)\n",
    "        else:\n",
    "            h = t.head.text\n",
    "        x.add_row([ t.text, t.lemma_, t.pos_, t.dep_, h ])\n",
    "\n",
    "    result = []\n",
    "    print('roots: ', roots)\n",
    "    for r in roots:\n",
    "        print(r.pos_)\n",
    "        verb = r\n",
    "        subj = None\n",
    "        dobj = None\n",
    "        iobj = None\n",
    "\n",
    "        children = [ c for c in r.children ]\n",
    "\n",
    "        for c in children:\n",
    "            print(c.text, c.lemma_, c.pos_, c.dep_)\n",
    "            if 'subj' in c.dep_:\n",
    "                subj = c\n",
    "\n",
    "            if c.dep_ in [ 'obj',  ]:\n",
    "                dobj = c\n",
    "\n",
    "            if c.dep_ in [ 'obl', 'xcomp' ]:\n",
    "                iobj = c\n",
    "        \n",
    "        print(dobj, iobj)\n",
    "        if dobj:\n",
    "            result.append((subj, verb, dobj))\n",
    "        elif iobj:\n",
    "            result.append((subj, verb, iobj))\n",
    "        else:\n",
    "            result.append((subj, verb, None))\n",
    "    \n",
    "    print(x)\n",
    "    return result"
   ]
  },
  {
   "cell_type": "code",
   "execution_count": 10,
   "metadata": {},
   "outputs": [
    {
     "name": "stdout",
     "output_type": "stream",
     "text": [
      "roots:  [verdade]\n",
      "NOUN\n",
      "é ser VERB cop\n",
      ", , PUNCT punct\n",
      "articuladores articulador SYM parataxis\n",
      "ficam ficar VERB conj\n",
      ". . PUNCT punct\n",
      "None None\n",
      "+---------------+-------------+-------+-----------+---------------+\n",
      "|      txt      |    lemma    |  pos  |    dep    |      head     |\n",
      "+---------------+-------------+-------+-----------+---------------+\n",
      "|       é       |     ser     |  VERB |    cop    |    verdade    |\n",
      "|    verdade    |   verdade   |  NOUN |    ROOT   |      None     |\n",
      "|       ,       |      ,      | PUNCT |   punct   |    verdade    |\n",
      "|      eles     |     ele     |  PRON |   nsubj   | articuladores |\n",
      "|      são      |     ser     |  VERB |    cop    | articuladores |\n",
      "|       os      |      o      |  DET  |    det    | articuladores |\n",
      "|   principais  |  principal  |  ADJ  |    amod   | articuladores |\n",
      "| articuladores | articulador |  SYM  | parataxis |    verdade    |\n",
      "|      das      |     das     |  VERB |    acl    | articuladores |\n",
      "|    guerras    |    guerra   |  ADJ  |    obj    |      das      |\n",
      "|       ,       |      ,      | PUNCT |   punct   |     ficam     |\n",
      "|       e       |      e      | CCONJ |     cc    |     ficam     |\n",
      "|     ficam     |    ficar    |  VERB |    conj   |    verdade    |\n",
      "|    contando   |    contar   |  VERB |   xcomp   |     ficam     |\n",
      "|    dinheiro   |   dinheiro  |  NOUN |    obj    |    contando   |\n",
      "|    enquanto   |   enquanto  |  ADV  |    case   |  incontáveis  |\n",
      "|  incontáveis  |  incontável |  ADJ  |    obl    |    contando   |\n",
      "|   militares   |   militar   |  ADJ  |    amod   |  incontáveis  |\n",
      "|       e       |      e      | CCONJ |     cc    |     civis     |\n",
      "|     civis     |    civil    | PROPN |    conj   |   militares   |\n",
      "|     morrem    |    morrer   |  VERB |   xcomp   |     ficam     |\n",
      "|       no      |      o      |  DET  |    obj    |     morrem    |\n",
      "|     campo     |    campar   |  NOUN |    obj    |     morrem    |\n",
      "|       de      |      de     |  ADP  |    case   |    batalha    |\n",
      "|    batalha    |   batalhar  |  NOUN |    nmod   |     campo     |\n",
      "|       .       |      .      | PUNCT |   punct   |    verdade    |\n",
      "+---------------+-------------+-------+-----------+---------------+\n"
     ]
    },
    {
     "data": {
      "text/plain": [
       "[(None, verdade, None)]"
      ]
     },
     "execution_count": 10,
     "metadata": {},
     "output_type": "execute_result"
    }
   ],
   "source": [
    "txt = 'é verdade, eles são os principais articuladores das guerras, e ficam contando dinheiro enquanto incontáveis militares e civis morrem no campo de batalha.'\n",
    "get_svo(txt)"
   ]
  },
  {
   "cell_type": "code",
   "execution_count": 5,
   "metadata": {},
   "outputs": [],
   "source": [
    "with open('data/corpora/ocultismo/penumbralivros__2016_07__armas_magicas_o_pantaculo.txt') as fl:\n",
    "    data = fl.readlines()\n",
    "data = [ x.strip() for x in data ]"
   ]
  },
  {
   "cell_type": "code",
   "execution_count": 6,
   "metadata": {},
   "outputs": [
    {
     "data": {
      "text/plain": [
       "['Armas Mágicas: O Pantáculo',\n",
       " 'O Pantáculo (nome que se dá em Thelema para o Pentáculo) é a arma mágica que completa as quatro principais, ao lado da Baqueta, da Taçae da Espada.',\n",
       " 'O Pantáculo e o elemento Terra',\n",
       " 'Os quatro elementos clássicos são representados pelas principais armas, e o Pantáculo está diretamente associado à Terra. É a arma da materialização, da reificação. O poder desta arma pode ser resumido como a capacidade de fazer com que eventos se manifestem na realidade consensual. Apesar da Baqueta simbolizar a Vontade, é o Pantáculo que faz com que eventos saiam do campo das ideias e pensamentos.',\n",
       " 'Sendo ligada ao elemento Terra, esta arma também se associa às Moedas no Tarô. O Pantáculo representa tudo que há no plano material, apesar de, como uma arma mágica, ter um tamanho relativamente compacto.',\n",
       " 'Símbolos e Pentáculos',\n",
       " 'É importante distinguir o Pantáculo, como arma mágica, do pentáculo como símbolo. É comum a associação do pentagrama com o pentáculo, mas outros símbolos diversos são conhecidos como pentáculos. É o caso dos 40 pentáculos de Salomão – símbolos compostos com diferentes objetivos usados na magia salomônica e que podem ou não assumir a forma física de um amuleto. Obviamente, fora do sistema thelêmico, é comum que talismãs ou amuletos com símbolos sejam também conhecidos como pentáculos.',\n",
       " 'De acordo com Crowley, em seu Livro 4, Parte II, esta arma mágica sempre contém uma representação da Cruz e do Círculo. Variações são às vezes demonstradas (triângulos, serpentes, etc.), mas o simbolismo básico não muda. Um pantáculo feito por um magista iniciante tem tendência a trazer um excesso de símbolos. Com o desenvolvimento individual, estas armas tendem a tornar-se mais simples e conter apenas o essencial.',\n",
       " 'A Obra do Pantáculo',\n",
       " 'A “criação” simbólica do Pantáculo é uma importante obra a ser realizada pelo magista. Está ligado às manifestações terrenas, e portanto, seus efeitos estão fadados à impermanência.',\n",
       " 'Para que se obtenha sucesso nesta obra, é necessário domínio de outras armas também. É fundamental, por exemplo, o domínio da Baqueta e da Espada. Considerando a inevitável impermanência, é extremamente importante saber o que se deseja criar e destruir. Sem este conhecimento, o uso do Pantáculo não só torna-se inútil, como também perigoso.',\n",
       " 'Mais Informações',\n",
       " 'Aleister Crowley, em seu Livro 4, Parte II, dá as chaves para a confecção desta arma mágica. Suas dimensões corretas, o material que deve ser usado em sua elaboração, entre outras características da maior relevância para o magista cerimonial. A Clavícula de Salomão apresenta os diversos Pentáculos de Salomão e as fórmulas para usá-los corretamente. Ambos estão disponíveis na Loja da Penumbra Livros.']"
      ]
     },
     "execution_count": 6,
     "metadata": {},
     "output_type": "execute_result"
    }
   ],
   "source": [
    "data"
   ]
  },
  {
   "cell_type": "code",
   "execution_count": null,
   "metadata": {},
   "outputs": [],
   "source": []
  }
 ],
 "metadata": {
  "kernelspec": {
   "display_name": "Python 3",
   "language": "python",
   "name": "python3"
  },
  "language_info": {
   "codemirror_mode": {
    "name": "ipython",
    "version": 3
   },
   "file_extension": ".py",
   "mimetype": "text/x-python",
   "name": "python",
   "nbconvert_exporter": "python",
   "pygments_lexer": "ipython3",
   "version": "3.7.3"
  }
 },
 "nbformat": 4,
 "nbformat_minor": 2
}
