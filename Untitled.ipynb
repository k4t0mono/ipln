{
 "cells": [
  {
   "cell_type": "code",
   "execution_count": 6,
   "metadata": {},
   "outputs": [],
   "source": [
    "import spacy\n",
    "from prettytable import PrettyTable"
   ]
  },
  {
   "cell_type": "code",
   "execution_count": 7,
   "metadata": {},
   "outputs": [],
   "source": [
    "nlp = spacy.load('pt_core_news_sm')"
   ]
  },
  {
   "cell_type": "code",
   "execution_count": 131,
   "metadata": {},
   "outputs": [],
   "source": [
    "txt = 'eu gosto de jogar magic. eu gosto de carros e motos. jogo magic'\n",
    "doc = nlp(txt)"
   ]
  },
  {
   "cell_type": "code",
   "execution_count": 132,
   "metadata": {},
   "outputs": [
    {
     "name": "stdout",
     "output_type": "stream",
     "text": [
      "+----+--------+-------+-------+-----------+-----------------------+\n",
      "| i  |  text  |  pos  |  dep  | head_text |         child         |\n",
      "+----+--------+-------+-------+-----------+-----------------------+\n",
      "| 0  |   eu   |  PRON | nsubj |   gosto   |           []          |\n",
      "| 1  | gosto  |  VERB |  ROOT |    None   |  ['eu', 'jogar', '.'] |\n",
      "| 2  |   de   |  ADP  |  mark |   jogar   |           []          |\n",
      "| 3  | jogar  |  VERB | xcomp |   gosto   |    ['de', 'magic']    |\n",
      "| 4  | magic  |  NOUN |  obj  |   jogar   |           []          |\n",
      "| 5  |   .    | PUNCT | punct |   gosto   |           []          |\n",
      "| 6  |   eu   |  PRON | nsubj |   gosto   |           []          |\n",
      "| 7  | gosto  |  VERB |  ROOT |    None   | ['eu', 'carros', '.'] |\n",
      "| 8  |   de   |  ADP  |  case |   carros  |           []          |\n",
      "| 9  | carros |  NOUN |  obl  |   gosto   |    ['de', 'motos']    |\n",
      "| 10 |   e    | CCONJ |   cc  |   motos   |           []          |\n",
      "| 11 | motos  |  NOUN |  conj |   carros  |         ['e']         |\n",
      "| 12 |   .    | PUNCT | punct |   gosto   |           []          |\n",
      "| 13 |  jogo  |  NOUN |  ROOT |    None   |       ['magic']       |\n",
      "| 14 | magic  |  ADJ  |  amod |    jogo   |           []          |\n",
      "+----+--------+-------+-------+-----------+-----------------------+\n"
     ]
    }
   ],
   "source": [
    "x = PrettyTable()\n",
    "x.field_names = [ 'i', 'text', 'pos', 'dep', 'head_text', 'child' ]\n",
    "\n",
    "roots = []\n",
    "for i in range(len(doc)):\n",
    "    t = doc[i]\n",
    "    if t.dep_ == 'ROOT':\n",
    "        h = None\n",
    "        roots.append(t)\n",
    "    else:\n",
    "        h = t.head.text\n",
    "        \n",
    "    x.add_row([ i, t.text, t.pos_, t.dep_, h, [ c.text for c in t.children ] ])\n",
    "    \n",
    "print(x)"
   ]
  },
  {
   "cell_type": "code",
   "execution_count": 135,
   "metadata": {},
   "outputs": [
    {
     "name": "stdout",
     "output_type": "stream",
     "text": [
      "\t> eu PRON nsubj\n",
      "\t> jogar VERB xcomp\n",
      "\t> . PUNCT punct\n",
      "subj:  eu\n",
      "verb:  gosto\n",
      "objs:  {'direct': [jogar], 'indirect': []}\n",
      "\n",
      "\t> eu PRON nsubj\n",
      "\t> carros NOUN obl\n",
      "\t> . PUNCT punct\n",
      "subj:  eu\n",
      "verb:  gosto\n",
      "objs:  {'direct': [carros, motos], 'indirect': []}\n",
      "\n",
      "\t> magic ADJ amod\n",
      "subj:  None\n",
      "verb:  jogo\n",
      "objs:  {'direct': [magic], 'indirect': []}\n",
      "jogo\n",
      "\n"
     ]
    }
   ],
   "source": [
    "result = []\n",
    "for r in roots:\n",
    "    subj = None\n",
    "    verb = r\n",
    "    objs = dict(direct=[], indirect=[])\n",
    "\n",
    "    children = [ c for c in r.children ]\n",
    "    \n",
    "    for c in children:\n",
    "        print('\\t>', c.text, c.pos_, c.dep_)\n",
    "        \n",
    "        if 'subj' in c.dep_:\n",
    "            subj = c\n",
    "        \n",
    "        if c.dep_ in ['obl', 'amod', 'xcomp']:\n",
    "            objs['direct'].append(c)\n",
    "            \n",
    "            for cc in c.children:\n",
    "                if cc.dep_ == 'conj':\n",
    "                    objs['direct'].append(cc)\n",
    "            \n",
    "    print('subj: ', subj)\n",
    "    print('verb: ', verb)\n",
    "    print('objs: ', objs)\n",
    "    \n",
    "    if subj == None:\n",
    "        print(verb)\n",
    "    \n",
    "    for o in objs['direct']:\n",
    "        result.append((subj, verb, o))\n",
    "    \n",
    "    for o in objs['indirect']:\n",
    "        result.append((subj, verb, o))\n",
    "    print()"
   ]
  },
  {
   "cell_type": "code",
   "execution_count": 134,
   "metadata": {},
   "outputs": [
    {
     "data": {
      "text/plain": [
       "[(eu, gosto, jogar),\n",
       " (eu, gosto, carros),\n",
       " (eu, gosto, motos),\n",
       " (None, jogo, magic)]"
      ]
     },
     "execution_count": 134,
     "metadata": {},
     "output_type": "execute_result"
    }
   ],
   "source": [
    "result"
   ]
  },
  {
   "cell_type": "code",
   "execution_count": null,
   "metadata": {},
   "outputs": [],
   "source": []
  },
  {
   "cell_type": "code",
   "execution_count": null,
   "metadata": {},
   "outputs": [],
   "source": []
  }
 ],
 "metadata": {
  "kernelspec": {
   "display_name": "Python 3",
   "language": "python",
   "name": "python3"
  },
  "language_info": {
   "codemirror_mode": {
    "name": "ipython",
    "version": 3
   },
   "file_extension": ".py",
   "mimetype": "text/x-python",
   "name": "python",
   "nbconvert_exporter": "python",
   "pygments_lexer": "ipython3",
   "version": "3.7.3"
  }
 },
 "nbformat": 4,
 "nbformat_minor": 2
}
